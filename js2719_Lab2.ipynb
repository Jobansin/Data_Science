{
 "cells": [
  {
   "cell_type": "markdown",
   "metadata": {},
   "source": [
    "Before you turn this problem in, make sure everything runs as expected. First, **restart the kernel** (in the menubar, select Kernel$\\rightarrow$Restart) and then **run all cells** (in the menubar, select Cell$\\rightarrow$Run All).\n",
    "\n",
    "Make sure you fill in any place that says `YOUR CODE HERE` or \"YOUR ANSWER HERE\", as well as your name and collaborators below:"
   ]
  },
  {
   "cell_type": "code",
   "execution_count": null,
   "metadata": {},
   "outputs": [],
   "source": [
    "NAME = \"Jobanpreet Singh\"\n",
    "COLLABORATORS = \"\""
   ]
  },
  {
   "cell_type": "markdown",
   "metadata": {},
   "source": [
    "---"
   ]
  },
  {
   "cell_type": "markdown",
   "metadata": {},
   "source": [
    "Before you turn this problem in, make sure everything runs as expected. First, **restart the kernel** (in the menubar, select Kernel$\\rightarrow$Restart) and then **run all cells** (in the menubar, select Cell$\\rightarrow$Run All).\n",
    "\n",
    "Make sure you fill in any place that says `YOUR CODE HERE` or \"YOUR ANSWER HERE\", as well as your name and collaborators below:"
   ]
  },
  {
   "cell_type": "code",
   "execution_count": null,
   "metadata": {},
   "outputs": [],
   "source": [
    "NAME = \"Jobanpreet Singh\"\n",
    "COLLABORATORS = \"\""
   ]
  },
  {
   "cell_type": "markdown",
   "metadata": {},
   "source": [
    "---"
   ]
  },
  {
   "cell_type": "markdown",
   "metadata": {},
   "source": [
    "<div class=\"alert alert-block alert-info\">\n",
    "<h3>Student Information</h3> Please provide information about yourself.<br>\n",
    "<b>Name</b> Andy Guna: Jobanpreet Singh<br>\n",
    "<b>NetID</b>: js2719<br> \n",
    "<b>Recitation (1,2,3,4)</b>: 3<br>\n",
    "<b>Notes to Grader</b> (optional):<br>\n",
    "<br><br>\n",
    "<b>IMPORTANT</b>\n",
    "Your work will not be graded withour your initials below<br>\n",
    "I certify that this lab represents my own work and I have read the \n",
    "RU academic intergrity policies at <br>  http://nbacademicintegrity.rutgers.edu/home/for-students/\n",
    "<br>\n",
    "<b>Initials</b>: JS     (eg: AG for Andy Guna)\n",
    "\n",
    "\n",
    "<h3>Grader Notes</h3>\n",
    "<b>Your Grade<b>:<br>\n",
    "<b>Grader Initials</b>:<br>\n",
    "<b>Grader Comments</b> (optional):<br>\n",
    "</div>"
   ]
  },
  {
   "cell_type": "markdown",
   "metadata": {
    "deletable": false,
    "editable": false,
    "nbgrader": {
     "cell_type": "markdown",
     "checksum": "7db0b682db627035a79ef0b7f91bf322",
     "grade": false,
     "grade_id": "title-cell",
     "locked": true,
     "schema_version": 3,
     "solution": false
    },
    "tags": []
   },
   "source": [
    "## CS 439 - Introduction to Data Science\n",
    "### Fall 2023\n",
    "\n",
    "# Lab 2: Processing and analyzing large data sets\n",
    "\n",
    "### Due Date : Sunday October 8, 2023 by 11:59 PM\n",
    "\n",
    "### Instructions\n",
    "\n",
    "\n",
    "This is lab on using Python/Pandas to process large data sets to discover information about the data set. The purpose of this lab is to learn how to use some basic commands in Pandas in your data science projects. We will also do some data analysis with a real dataset of babynames. This lab is presented as a Jupyter notebook. \n",
    "Please execute the cells (SHIFT-ENTER) that are already completed and then your task is to fill in the missing code.\n"
   ]
  },
  {
   "cell_type": "markdown",
   "metadata": {
    "deletable": false,
    "editable": false,
    "nbgrader": {
     "cell_type": "markdown",
     "checksum": "93ba3aeb98b592365dd81e13fcb881e2",
     "grade": false,
     "grade_id": "outline-cell",
     "locked": true,
     "schema_version": 3,
     "solution": false
    }
   },
   "source": [
    "[Pandas](https://pandas.pydata.org/) is one of the most widely used Python libraries in data science. In this lab, you will learn commonly used data wrangling operations/tools in Pandas. We aim to give you familiarity with:\n",
    "\n",
    "* Creating dataframes\n",
    "* Slicing data frames (ie. selecting rows and columns)\n",
    "* Filtering data (using boolean arrays)\n",
    "* Data Aggregation/Grouping dataframes\n",
    "* Merging dataframes\n",
    "\n",
    "In this lab, you are going to use several pandas methods like `drop()`, `loc[]`, `groupby()`. You may press `shift+tab` on the method parameters to see the documentation for that method."
   ]
  },
  {
   "cell_type": "markdown",
   "metadata": {
    "deletable": false,
    "editable": false,
    "nbgrader": {
     "cell_type": "markdown",
     "checksum": "d4b9e750d908d896974e6e55b5443604",
     "grade": false,
     "grade_id": "cell-03ce8b2a12c5589d",
     "locked": true,
     "schema_version": 3,
     "solution": false
    }
   },
   "source": [
    "**A note**: Pandas operations can be confusing at times and the documentation may not be that great, but it is OK to be stumped when figuring out why a piece of code is not doing what it's supposed to. We don't expect you to memorize all the different Pandas functions for any reason, just know the basic ones like `iloc[]`, `loc[]`, slicing, and other general dataframe operations. For exams and quizzes, you will get a Pandas cheat sheet that can be used.\n",
    "\n",
    "Throughout the semester, you will have to search through Pandas documentation and experiment, but remember it is part of the learning experience and will help shape you as a data scientist!  You need to learn how to read documentation."
   ]
  },
  {
   "cell_type": "markdown",
   "metadata": {},
   "source": [
    "### Validation of Code/notebooks\n",
    "Although there is the option to validate a cell/notebook using \"validate\" option in nbgrader, we are <b>NOT</b> using that feature\n",
    "when grading. Graders run the cells and observe to validate output. Hence it is <b>NOT necessary</b> to validate notebooks."
   ]
  },
  {
   "cell_type": "markdown",
   "metadata": {},
   "source": [
    "### Missing Files/Output/Questions/Clarifications\n",
    "In some cases, files or output may be missing from the released version. Please check Canvas files and discussions. Please post questions to canvas discussions. We are not responding to email questions. For private questions, please attend a scheduled office hours from staff as listed on canvas."
   ]
  },
  {
   "cell_type": "markdown",
   "metadata": {
    "deletable": false,
    "editable": false,
    "nbgrader": {
     "cell_type": "markdown",
     "checksum": "2cf9ef4e9b287b6a4e632ce79ef34120",
     "grade": false,
     "grade_id": "setup-cell",
     "locked": true,
     "schema_version": 3,
     "solution": false
    }
   },
   "source": [
    "## Setup\n",
    "The first step in this lab is to setup the environment. We will read in pandas, numpy and matplotlib"
   ]
  },
  {
   "cell_type": "code",
   "execution_count": null,
   "metadata": {
    "deletable": false,
    "editable": false,
    "nbgrader": {
     "cell_type": "code",
     "checksum": "d15eabdadb2670d22e3884aa97e90fa8",
     "grade": false,
     "grade_id": "imports",
     "locked": true,
     "schema_version": 3,
     "solution": false
    },
    "tags": []
   },
   "outputs": [],
   "source": [
    "import pandas as pd\n",
    "import numpy as np\n",
    "import matplotlib.pyplot as plt\n",
    "%matplotlib inline"
   ]
  },
  {
   "cell_type": "markdown",
   "metadata": {},
   "source": [
    "## Creating DataFrames & Basic Manipulations\n",
    "\n",
    "A [dataframe](http://pandas.pydata.org/pandas-docs/stable/dsintro.html#dataframe) is a two-dimensional labeled data structure with columns of potentially different types.\n",
    "\n",
    "The pandas [`DataFrame` function](https://pandas.pydata.org/pandas-docs/stable/generated/pandas.DataFrame.html) provides at least two syntaxes to create a data frame.\n",
    "\n",
    "**Syntax 1: ** You can create a data frame by specifying the columns and values using a dictionary as shown below. \n",
    "\n",
    "The keys of the dictionary are the column names, and the values of the dictionary are lists containing the row entries."
   ]
  },
  {
   "cell_type": "code",
   "execution_count": null,
   "metadata": {
    "tags": []
   },
   "outputs": [],
   "source": [
    "president_info = pd.DataFrame(\n",
    "    data={'president': ['obama', 'bush', 'trump', 'biden'],\n",
    "          'party': ['democrat', 'republican', 'republican', 'democrat']\n",
    "          })\n",
    "president_info"
   ]
  },
  {
   "cell_type": "markdown",
   "metadata": {},
   "source": [
    "**Syntax 2: ** You can also define a dataframe by specifying the rows like below. \n",
    "\n",
    "Each row corresponds to a distinct tuple, and the columns are specified separately."
   ]
  },
  {
   "cell_type": "code",
   "execution_count": null,
   "metadata": {
    "tags": []
   },
   "outputs": [],
   "source": [
    "president_info = pd.DataFrame(\n",
    "    [(\"obama\", \"democrat\"), (\"bush\", \"republican\"), (\"trump\", \"republican\"),\n",
    "     (\"biden\", \"democrat\")], \n",
    "    columns = [\"president\", \"party\"])\n",
    "president_info"
   ]
  },
  {
   "cell_type": "markdown",
   "metadata": {},
   "source": [
    "# Task 1 - Panda Basics"
   ]
  },
  {
   "cell_type": "markdown",
   "metadata": {
    "deletable": false,
    "editable": false,
    "nbgrader": {
     "cell_type": "markdown",
     "checksum": "f14400ad92e75011f206fbc51b606a91",
     "grade": false,
     "grade_id": "q1",
     "locked": true,
     "schema_version": 3,
     "solution": false
    }
   },
   "source": [
    "### Activity 1.1 - adding columns\n",
    "\n",
    "You can add a column by `dataframe['new column name'] = [data]`. Please add a column called `votes` to the `president_info` table which contains a 52%,49%,46%, or 51% based on your personal preference ordering for each fruit. \n"
   ]
  },
  {
   "cell_type": "code",
   "execution_count": null,
   "metadata": {
    "deletable": false,
    "nbgrader": {
     "cell_type": "code",
     "checksum": "1403f7c30fd46ec51a13b8139c438032",
     "grade": false,
     "grade_id": "q1_answer",
     "locked": false,
     "schema_version": 3,
     "solution": true
    },
    "tags": [
     "solution"
    ]
   },
   "outputs": [],
   "source": [
    "# YOUR CODE HERE\n",
    "president_info['votes'] = ['52%', '49%', '46%', '51%']"
   ]
  },
  {
   "cell_type": "code",
   "execution_count": null,
   "metadata": {
    "deletable": false,
    "editable": false,
    "nbgrader": {
     "cell_type": "code",
     "checksum": "702c649de4ef1ffff05da74122aea6c2",
     "grade": false,
     "grade_id": "q1_display",
     "locked": true,
     "schema_version": 3,
     "solution": false
    },
    "tags": []
   },
   "outputs": [],
   "source": [
    "# print the data frame to see if the column has been added\n",
    "president_info"
   ]
  },
  {
   "cell_type": "code",
   "execution_count": null,
   "metadata": {
    "tags": []
   },
   "outputs": [],
   "source": [
    "# insert a new row for any president other than the one listed here. You can make up one.\n",
    "# YOUR CODE HERE\n",
    "\n",
    "president_new = [{'president': 'Kanye', 'party': 'democrat', 'votes': '50%'}]\n",
    "\n",
    "president_info = pd.concat([president_info, pd.DataFrame(president_new)], ignore_index=True)\n",
    "# raise NotImplementedError()\n",
    "president_info"
   ]
  },
  {
   "cell_type": "code",
   "execution_count": null,
   "metadata": {
    "deletable": false,
    "nbgrader": {
     "cell_type": "code",
     "checksum": "6b14d7e6ae017d9c05042eebe1fed8fc",
     "grade": true,
     "grade_id": "q1_test",
     "locked": true,
     "points": 1,
     "schema_version": 3,
     "solution": false
    },
    "tags": []
   },
   "outputs": [],
   "source": [
    "# complete the ?? of the assert statements below by observing the values\n",
    "assert president_info[\"votes\"].dtype == object\n",
    "assert len(president_info[\"votes\"].dropna()) == 5\n",
    "### ENDOF SOLUTION"
   ]
  },
  {
   "cell_type": "markdown",
   "metadata": {},
   "source": [
    "### Activity 1.2 - adding columns II\n",
    "\n",
    "You can ALSO add a column by `dataframe.loc[:, 'new column name'] = [data]`. This way to modify an existing dataframe is preferred over the assignment above. In other words, it is best that you use `loc[]`. Although using `loc[]` is more verbose, it is faster. (However, this tradeoff is more likely to be valuable in production software than during interactive use.) In lecture we will explain in more detail what `loc[]` does, but essentially, the first parameter is for the rows and second is for columns. The `:` means keep all rows and the `new column name` indicates the column you are modifying or in this case adding. \n",
    "\n",
    "Please add a column called `rank` to the `president_info` table which contains a 1,2,3,4,5 or based on your personal preference ordering for each president (it is perfectly fine to be random here). Use the loc to do this.\n"
   ]
  },
  {
   "cell_type": "code",
   "execution_count": null,
   "metadata": {
    "deletable": false,
    "nbgrader": {
     "cell_type": "code",
     "checksum": "a8389c639983a53ef5e2dc12e08f7497",
     "grade": false,
     "grade_id": "cell-ef625b2f6154e9b2",
     "locked": false,
     "schema_version": 3,
     "solution": true
    },
    "tags": []
   },
   "outputs": [],
   "source": [
    "# YOUR CODE HERE\n",
    "president_info.loc[:,'rank'] = [3, 4, 2, 5, 1] #can be '1'\n",
    "#raise NotImplementedError()"
   ]
  },
  {
   "cell_type": "code",
   "execution_count": null,
   "metadata": {
    "deletable": false,
    "editable": false,
    "nbgrader": {
     "cell_type": "code",
     "checksum": "6b3cb2ef4f28b41cb92bed6a6db2bd92",
     "grade": false,
     "grade_id": "cell-2ad40c65c28abbfa",
     "locked": true,
     "schema_version": 3,
     "solution": false
    },
    "tags": []
   },
   "outputs": [],
   "source": [
    "president_info"
   ]
  },
  {
   "cell_type": "code",
   "execution_count": null,
   "metadata": {
    "deletable": false,
    "nbgrader": {
     "cell_type": "code",
     "checksum": "6d131392713ef68afa7ad879f823aa65",
     "grade": true,
     "grade_id": "cell-5b16cf06e0ff3492",
     "locked": true,
     "points": 1,
     "schema_version": 3,
     "solution": false
    },
    "tags": []
   },
   "outputs": [],
   "source": [
    "# complete the assert statements below\n",
    "assert president_info[\"rank\"].dtype == int #object\n",
    "assert len(president_info[\"rank\"].dropna()) == 5"
   ]
  },
  {
   "cell_type": "markdown",
   "metadata": {
    "deletable": false,
    "editable": false,
    "nbgrader": {
     "cell_type": "markdown",
     "checksum": "fbcc10b9c80f2b76506114535cf35dae",
     "grade": false,
     "grade_id": "q2",
     "locked": true,
     "schema_version": 3,
     "solution": false
    }
   },
   "source": [
    "### Activity 1.3 - dropping columns\n",
    "\n",
    "Use the `.drop()` method to [drop](https://pandas.pydata.org/pandas-docs/stable/generated/pandas.DataFrame.drop.html) the both the `votes` and `rank` columns you created and make a new dataFrame called president_info_new. (Make sure to use the `axis` parameter correctly) \n",
    "\n",
    "Hint: Look through the documentation to see how you can drop multiple columns of a Pandas dataframe at once, it may involve a list."
   ]
  },
  {
   "cell_type": "code",
   "execution_count": null,
   "metadata": {
    "deletable": false,
    "nbgrader": {
     "cell_type": "code",
     "checksum": "24b37ace04a14016a492159c1fc482f0",
     "grade": false,
     "grade_id": "q2_answer",
     "locked": false,
     "schema_version": 3,
     "solution": true
    },
    "tags": [
     "solution"
    ]
   },
   "outputs": [],
   "source": [
    "# YOUR CODE HERE\n",
    "president_info_new = president_info.drop(['votes', 'rank'], axis = 1)\n",
    "#raise NotImplementedError()"
   ]
  },
  {
   "cell_type": "code",
   "execution_count": null,
   "metadata": {
    "deletable": false,
    "editable": false,
    "nbgrader": {
     "cell_type": "code",
     "checksum": "07f19d11435aeb89678dd75cff5ad3df",
     "grade": false,
     "grade_id": "q2_display",
     "locked": true,
     "schema_version": 3,
     "solution": false
    },
    "tags": []
   },
   "outputs": [],
   "source": [
    "president_info_new"
   ]
  },
  {
   "cell_type": "code",
   "execution_count": null,
   "metadata": {
    "deletable": false,
    "nbgrader": {
     "cell_type": "code",
     "checksum": "64d51485ac5f08da88bdca07211b1bd8",
     "grade": true,
     "grade_id": "q2_test",
     "locked": true,
     "points": 1,
     "schema_version": 3,
     "solution": false
    },
    "tags": []
   },
   "outputs": [],
   "source": [
    "# complete the assert statements below\n",
    "assert president_info_new.shape[1] == 2"
   ]
  },
  {
   "cell_type": "markdown",
   "metadata": {
    "deletable": false,
    "editable": false,
    "nbgrader": {
     "cell_type": "markdown",
     "checksum": "f442c086c3bc882c02f7e9aac719ef71",
     "grade": false,
     "grade_id": "q3",
     "locked": true,
     "schema_version": 3,
     "solution": false
    },
    "tags": []
   },
   "source": [
    "### Activity 1.4 - Renaming columns\n",
    "\n",
    "Use the `.rename()` method to [rename](https://pandas.pydata.org/pandas-docs/stable/generated/pandas.DataFrame.rename.html) the columns of `president_info_new` so they begin with a capital letter. Set the `inplace` parameter correctly to change the `president_info_new` dataframe. (**Hint:** in 1.3, `drop` creates and returns a new dataframe instead of changing `president_info` because `inplace` by default is `False`)"
   ]
  },
  {
   "cell_type": "code",
   "execution_count": null,
   "metadata": {
    "deletable": false,
    "nbgrader": {
     "cell_type": "code",
     "checksum": "24bc0613aa2f3ed4507a21d4bde36b69",
     "grade": false,
     "grade_id": "q3_answer",
     "locked": false,
     "schema_version": 3,
     "solution": true
    },
    "tags": [
     "solution"
    ]
   },
   "outputs": [],
   "source": [
    "# YOUR CODE HERE\n",
    "president_info_new.rename(columns=lambda x: x.capitalize(), inplace=True)\n",
    "print(president_info_new)\n",
    "#raise NotImplementedError()"
   ]
  },
  {
   "cell_type": "code",
   "execution_count": null,
   "metadata": {
    "deletable": false,
    "editable": false,
    "nbgrader": {
     "cell_type": "code",
     "checksum": "41f252fe94337e2d735c64cf36c9f967",
     "grade": false,
     "grade_id": "q3_display",
     "locked": true,
     "schema_version": 3,
     "solution": false
    },
    "tags": []
   },
   "outputs": [],
   "source": [
    "president_info"
   ]
  },
  {
   "cell_type": "code",
   "execution_count": null,
   "metadata": {
    "deletable": false,
    "nbgrader": {
     "cell_type": "code",
     "checksum": "bfe69c164925950442ebfa2c2aed9e2b",
     "grade": true,
     "grade_id": "q3_test",
     "locked": false,
     "points": 1,
     "schema_version": 3,
     "solution": false
    },
    "tags": []
   },
   "outputs": [],
   "source": [
    "# complete the assert statements below\n",
    "assert president_info.columns[0] == 'president'\n",
    "assert president_info.columns[1] == 'party' "
   ]
  },
  {
   "cell_type": "markdown",
   "metadata": {
    "deletable": false,
    "editable": false,
    "nbgrader": {
     "cell_type": "markdown",
     "checksum": "64fe2a7824576448dce175f912cd18b1",
     "grade": false,
     "grade_id": "babyname_dataset",
     "locked": true,
     "schema_version": 3,
     "solution": false
    },
    "tags": []
   },
   "source": [
    "# Task 2 - Babyname case study\n",
    "Now that we have learned the basics of data frames, let's move on to a babynames dataset. The babynames data set contains babynames from all states. We will clean and wrangle a data frame with babynames data for the remainder of this task."
   ]
  },
  {
   "cell_type": "markdown",
   "metadata": {
    "deletable": false,
    "editable": false,
    "nbgrader": {
     "cell_type": "markdown",
     "checksum": "fe6c6f7bb63974a4ca319bf4cbe85ac9",
     "grade": false,
     "grade_id": "fetch_and_cache",
     "locked": true,
     "schema_version": 3,
     "solution": false
    }
   },
   "source": [
    "## Helper Function\n",
    "### `fetch_and_cache` Helper\n",
    "\n",
    "Downloading large files take time. If you have to download the file everytime you execute this notebook, things can be slow and inefficient. To do this task once, we will use the following function for downloading and caching the data in the `data/` directory and returns the `Path` to the downloaded file. We can use this function throughout the course, so that we save the download bandwidth. This function checks the local data directory for the file name, before attempting to download. Note that, going forward, we will maintain a \"data\" folder in our lab working folder. "
   ]
  },
  {
   "cell_type": "code",
   "execution_count": null,
   "metadata": {
    "deletable": false,
    "editable": false,
    "nbgrader": {
     "cell_type": "code",
     "checksum": "1f89f6747d6d40177427a7cfb4a64589",
     "grade": false,
     "grade_id": "fetch_and_cache_code",
     "locked": true,
     "schema_version": 3,
     "solution": false
    },
    "tags": []
   },
   "outputs": [],
   "source": [
    "# Author: Berkeley Data Science Group\n",
    "def fetch_and_cache(data_url, file, data_dir=\"data\", force=False):\n",
    "    \"\"\"\n",
    "    Download and cache a url and return the file object.\n",
    "    \n",
    "    data_url: the web address to download\n",
    "    file: the file in which to save the results.\n",
    "    data_dir: (default=\"data\") the location to save the data\n",
    "    force: if true the file is always re-downloaded \n",
    "    \n",
    "    return: The pathlib.Path object representing the file.\n",
    "    \"\"\"\n",
    "    import requests\n",
    "    from pathlib import Path\n",
    "    data_dir = Path(data_dir)\n",
    "    data_dir.mkdir(exist_ok=True)\n",
    "    file_path = data_dir/Path(file)\n",
    "    if force and file_path.exists():\n",
    "        file_path.unlink()\n",
    "    if force or not file_path.exists():\n",
    "        print('Downloading...', end=' ')\n",
    "        resp = requests.get(data_url)\n",
    "        with file_path.open('wb') as f:\n",
    "            f.write(resp.content)\n",
    "        print('Done!')\n",
    "    else:\n",
    "        import time \n",
    "        birth_time = time.ctime(file_path.stat().st_ctime)\n",
    "        print(\"Using cached version downloaded:\", birth_time)\n",
    "    return file_path"
   ]
  },
  {
   "cell_type": "markdown",
   "metadata": {
    "deletable": false,
    "editable": false,
    "nbgrader": {
     "cell_type": "markdown",
     "checksum": "a11d16c319e45c8cac40e3c5dd8d5434",
     "grade": false,
     "grade_id": "cell-18d54d536c23da04",
     "locked": true,
     "schema_version": 3,
     "solution": false
    }
   },
   "source": [
    "Let us step through the above function and identify some of the key lines.\n",
    "\n",
    "In Python, whenever you want to check if a file exists in a certain path, it is not sufficient to just have the string representation of the path, you need to create a Path object usign the `Path()` constructor. Essentially, after the Path object is created for the directory, a directory is created at that path location using the `mkdir()` method. Then, within the directory, a path for the file itself is created and if the path has already been linked (a.k.a file has already been created and put in the directory), then a new one is not created and instead uses the cached version.\n",
    "\n",
    "The function `exists()` in the code above is one way to check if a file exists at a certain path when called on a path object. There is also another way this can be done using the `os` library in Python. If you decided to use the `os` library, you wouldn't need to create a Path object and rather pass in the the string representation of the path.\n",
    "\n",
    "Now, going back to the code, if the path hasn't been linked, then the file is downloaded and created at the path location. \n",
    "\n",
    "The benefit of this function is that not only can you force when you want a new file to be downloaded using the `force` parameter, but in cases when you don't need the file to be re-downloaded, you can use the cached version and save download time."
   ]
  },
  {
   "cell_type": "markdown",
   "metadata": {
    "deletable": false,
    "editable": false,
    "nbgrader": {
     "cell_type": "markdown",
     "checksum": "890469c9eb2e5510808da1438039581d",
     "grade": false,
     "grade_id": "download_data",
     "locked": true,
     "schema_version": 3,
     "solution": false
    }
   },
   "source": [
    "Below we use fetch and cache to download the `namesbystate.zip` zip file. \n",
    "\n",
    "**This might take a little while!**\n",
    "\n",
    "First let's run the following cells to build the dataframe `baby_names`.\n",
    "The cells below download the data from the web and extract the data in a New Jersey region. There should be a total of ???  records."
   ]
  },
  {
   "cell_type": "markdown",
   "metadata": {},
   "source": [
    "## Activity 2.1-  Download Babynames Data Set\n",
    "The zip file is approximately 21 MB. It might take a little time to download.But once you downloaded, it should always be available in the data folder for your lab."
   ]
  },
  {
   "cell_type": "code",
   "execution_count": null,
   "metadata": {
    "deletable": false,
    "editable": false,
    "nbgrader": {
     "cell_type": "code",
     "checksum": "ddde99724466fdec64618aeeb0b1f69c",
     "grade": false,
     "grade_id": "download_data_code",
     "locked": true,
     "schema_version": 3,
     "solution": false
    },
    "tags": []
   },
   "outputs": [],
   "source": [
    "data_url = 'https://www.ssa.gov/oact/babynames/state/namesbystate.zip'\n",
    "# use fetct_and_cache to avoid multiple downloads.\n",
    "namesbystate_path = fetch_and_cache(data_url, 'namesbystate.zip')"
   ]
  },
  {
   "cell_type": "markdown",
   "metadata": {
    "deletable": false,
    "editable": false,
    "nbgrader": {
     "cell_type": "markdown",
     "checksum": "9ed0c0d731e09b740f0527d0062a828e",
     "grade": false,
     "grade_id": "build_df",
     "locked": true,
     "schema_version": 3,
     "solution": false
    }
   },
   "source": [
    "The following cell builds the final full `baby_names` DataFrame. Here is documentation for [pd.concat](https://pandas.pydata.org/pandas-docs/version/0.22/generated/pandas.concat.html) if you want to know more about its functionality. \n"
   ]
  },
  {
   "cell_type": "code",
   "execution_count": null,
   "metadata": {
    "deletable": false,
    "editable": false,
    "nbgrader": {
     "cell_type": "code",
     "checksum": "20122ff1d7a2a350a7db5c39719674ab",
     "grade": false,
     "grade_id": "build_df_code",
     "locked": true,
     "schema_version": 3,
     "solution": false
    },
    "tags": []
   },
   "outputs": [],
   "source": [
    "import zipfile\n",
    "zf = zipfile.ZipFile(namesbystate_path, 'r')\n",
    "\n",
    "field_names = ['State', 'Sex', 'Year', 'Name', 'Count']\n",
    "\n",
    "def load_dataframe_from_zip(zf, f):\n",
    "    with zf.open(f) as fh: \n",
    "        return pd.read_csv(fh, header=None, names=field_names)\n",
    "\n",
    "# List comprehension\n",
    "states = [\n",
    "    load_dataframe_from_zip(zf, f)\n",
    "    for f in sorted(zf.filelist, key=lambda x:x.filename) \n",
    "    if f.filename.endswith('.TXT')\n",
    "]\n",
    "\n",
    "baby_names = pd.concat(states).reset_index(drop=True)"
   ]
  },
  {
   "cell_type": "code",
   "execution_count": null,
   "metadata": {
    "deletable": false,
    "editable": false,
    "nbgrader": {
     "cell_type": "code",
     "checksum": "4aad82ff18a836935b2e6adf78135ee6",
     "grade": false,
     "grade_id": "build_df_display",
     "locked": true,
     "schema_version": 3,
     "solution": false
    },
    "tags": []
   },
   "outputs": [],
   "source": [
    "# print key information about this data frame\n",
    "baby_names.head()"
   ]
  },
  {
   "cell_type": "code",
   "execution_count": null,
   "metadata": {
    "deletable": false,
    "nbgrader": {
     "cell_type": "code",
     "checksum": "94cf92b2c3b5a79903db46d1b9c84305",
     "grade": false,
     "grade_id": "build_df_check_len",
     "locked": true,
     "schema_version": 3,
     "solution": false
    },
    "tags": []
   },
   "outputs": [],
   "source": [
    "# find the number of records in the file. Change the ?? below to include the number and run the assert statement\n",
    "assert(len(baby_names) == 6408041 )   # if you get an error, you need to change the number"
   ]
  },
  {
   "cell_type": "code",
   "execution_count": null,
   "metadata": {
    "tags": []
   },
   "outputs": [],
   "source": [
    "## write a one line of code to know how many babies were born in AK named Mary in 1910? Hint: use groupby and \n",
    "# get_group methods\n",
    "# YOUR CODE HERE\n",
    "print (baby_names.groupby(['State','Sex', 'Year', 'Name']).get_group(('AK','F', 1910, 'Mary'))['Count'].sum())\n",
    "# raise NotImplementedError()"
   ]
  },
  {
   "cell_type": "markdown",
   "metadata": {
    "deletable": false,
    "editable": false,
    "nbgrader": {
     "cell_type": "markdown",
     "checksum": "becaa643fb2986374dbdb41e9f03723d",
     "grade": false,
     "grade_id": "slicing",
     "locked": true,
     "schema_version": 3,
     "solution": false
    }
   },
   "source": [
    "## Activity 2.2 - Slicing Data Frames - Selecting rows and columns\n"
   ]
  },
  {
   "cell_type": "markdown",
   "metadata": {
    "deletable": false,
    "editable": false,
    "nbgrader": {
     "cell_type": "markdown",
     "checksum": "6fae603ef7e965cac1b14b8d7df18a93",
     "grade": false,
     "grade_id": "slicing_text",
     "locked": true,
     "schema_version": 3,
     "solution": false
    }
   },
   "source": [
    "### Selection Using Label\n",
    "\n",
    "**Column Selection** \n",
    "To select a column of a `DataFrame` by column label, the safest and fastest way is to use the `.loc` [method](https://pandas.pydata.org/pandas-docs/stable/generated/pandas.DataFrame.loc.html). General usage looks like `frame.loc[rowname,colname]`. (Reminder that the colon `:` means \"everything\").  For example, if we want the `color` column of the `ex` data frame, we would use : `ex.loc[:, 'color']`\n",
    "\n",
    "- You can also slice across columns. For example, `baby_names.loc[:, 'Name':]` would give select the columns `Name` and the columns after.\n",
    "\n",
    "- *Alternative:* While `.loc` is invaluable when writing production code, it may be a little too verbose for interactive use. One recommended alternative is the `[]` method, which takes on the form `frame['colname']`.\n",
    "\n",
    "**Row Selection**\n",
    "Similarly, if we want to select a row by its label, we can use the same `.loc` method. In this case, the \"label\" of each row refers to the index (ie. primary key) of the dataframe."
   ]
  },
  {
   "cell_type": "code",
   "execution_count": null,
   "metadata": {
    "deletable": false,
    "nbgrader": {
     "cell_type": "code",
     "checksum": "17dc4db490b170b66d2ebb00094b10f3",
     "grade": false,
     "grade_id": "slicing_e1",
     "locked": true,
     "schema_version": 3,
     "solution": false
    },
    "tags": []
   },
   "outputs": [],
   "source": [
    "# Select rows 2:5 and the column 'Name'\n",
    "# YOUR CODE HERE\n",
    "baby_names.loc[2:5, 'Name']\n",
    "\n",
    "# raise NotImplementedError()"
   ]
  },
  {
   "cell_type": "code",
   "execution_count": null,
   "metadata": {
    "deletable": false,
    "nbgrader": {
     "cell_type": "code",
     "checksum": "dbf7e5de0a26ec233c5d034ef8b86757",
     "grade": false,
     "grade_id": "slicing_e2",
     "locked": true,
     "schema_version": 3,
     "solution": false
    },
    "tags": []
   },
   "outputs": [],
   "source": [
    "# Select rows 2:5 and column names using a list ['name']\n",
    "# YOUR CODE HERE\n",
    "baby_names.loc[2:5,['Name']]\n",
    "\n",
    "# raise NotImplementedError()\n"
   ]
  },
  {
   "cell_type": "markdown",
   "metadata": {
    "deletable": false,
    "editable": false,
    "nbgrader": {
     "cell_type": "markdown",
     "checksum": "d94f90aad84cb80e46745581fa8343a3",
     "grade": false,
     "grade_id": "slicing_loc_iloc",
     "locked": true,
     "schema_version": 3,
     "solution": false
    }
   },
   "source": [
    "The `.loc` actually uses the Pandas row index rather than row id/position of rows in the dataframe to perform the selection. Also, notice that if you write `2:5` with `loc[]`, contrary to normal Python slicing functionality, the end index is included, so you get the row with index 5. \n"
   ]
  },
  {
   "cell_type": "markdown",
   "metadata": {
    "deletable": false,
    "editable": false,
    "nbgrader": {
     "cell_type": "markdown",
     "checksum": "de55c0a3ebee833cb27a8df1a62ecf8f",
     "grade": false,
     "grade_id": "cell-463dfc0b4ae2e39d",
     "locked": true,
     "schema_version": 3,
     "solution": false
    }
   },
   "source": [
    "There is another Pandas slicing function called `iloc[]` which lets you slice the dataframe by row id and column id instead of by column name and row index (for `loc[]`). This is really the main difference between the 2 functions and it is important that you remember the difference and why you might want to use one over the other. \n",
    "\n",
    "In addition, with `iloc[]`, the end index is NOT included, like with normal Python slicing.\n",
    "\n",
    "Here is an example of how we would get the 2nd, 3rd, and 4th rows with only the `Name` column of the `baby_names` dataframe using both `iloc[]` and `loc[]`. Observe the difference."
   ]
  },
  {
   "cell_type": "code",
   "execution_count": null,
   "metadata": {
    "deletable": false,
    "nbgrader": {
     "cell_type": "code",
     "checksum": "11413fd3422f2333adaef0e914d36790",
     "grade": false,
     "grade_id": "cell-1292533181dbd2eb",
     "locked": true,
     "schema_version": 3,
     "solution": false
    },
    "tags": []
   },
   "outputs": [],
   "source": [
    "# Select row indices 1:4 and column idex 3 using iloc\n",
    "# YOUR CODE HERE\n",
    "baby_names.iloc[1:5, 3]\n",
    "#baby_names.iloc[1:4,3]\n",
    "# raise NotImplementedError()"
   ]
  },
  {
   "cell_type": "code",
   "execution_count": null,
   "metadata": {
    "deletable": false,
    "nbgrader": {
     "cell_type": "code",
     "checksum": "69d77ab5e7229f436be449ade90d8128",
     "grade": false,
     "grade_id": "cell-31c9d32586d65565",
     "locked": true,
     "schema_version": 3,
     "solution": false
    },
    "tags": []
   },
   "outputs": [],
   "source": [
    "# select row indices 1:3 and column \"name\" using loc\n",
    "# YOUR CODE HERE\n",
    "baby_names.loc[1:3, 'Name']\n",
    "\n",
    "# raise NotImplementedError()\n"
   ]
  },
  {
   "cell_type": "markdown",
   "metadata": {
    "deletable": false,
    "editable": false,
    "nbgrader": {
     "cell_type": "markdown",
     "checksum": "14bea8f5d7a2d303b7e1f04b1202f599",
     "grade": false,
     "grade_id": "cell-17ca8e630cf2d4bd",
     "locked": true,
     "schema_version": 3,
     "solution": false
    }
   },
   "source": [
    "Lastly, we can change the index of a dataframe using the `set_index` method."
   ]
  },
  {
   "cell_type": "code",
   "execution_count": null,
   "metadata": {
    "deletable": false,
    "editable": false,
    "nbgrader": {
     "cell_type": "code",
     "checksum": "2dde67b3de418b83e49ed3d8f14771c5",
     "grade": false,
     "grade_id": "slicing_e3",
     "locked": true,
     "schema_version": 3,
     "solution": false
    },
    "tags": []
   },
   "outputs": [],
   "source": [
    "# Example: We change the index from 0,1,2... to the Name column\n",
    "df = baby_names[:5].set_index(\"Name\") \n",
    "df"
   ]
  },
  {
   "cell_type": "markdown",
   "metadata": {
    "deletable": false,
    "editable": false,
    "nbgrader": {
     "cell_type": "markdown",
     "checksum": "47a832a1eaeefea0bcab41a2a18e7ced",
     "grade": false,
     "grade_id": "slicing_loc_index",
     "locked": true,
     "schema_version": 3,
     "solution": false
    }
   },
   "source": [
    "We can now lookup rows by name directly:"
   ]
  },
  {
   "cell_type": "code",
   "execution_count": null,
   "metadata": {
    "deletable": false,
    "editable": false,
    "nbgrader": {
     "cell_type": "code",
     "checksum": "f781f00da455dc281cc32b7cad134910",
     "grade": false,
     "grade_id": "slicing_loc_index_code",
     "locked": true,
     "schema_version": 3,
     "solution": false
    },
    "tags": []
   },
   "outputs": [],
   "source": [
    "df.loc[['Mary', 'Anna'], :]"
   ]
  },
  {
   "cell_type": "markdown",
   "metadata": {
    "deletable": false,
    "editable": false,
    "nbgrader": {
     "cell_type": "markdown",
     "checksum": "ada49ef379120c7b4dbc946e5b347d7e",
     "grade": false,
     "grade_id": "slicing_iloc",
     "locked": true,
     "schema_version": 3,
     "solution": false
    }
   },
   "source": [
    "However, if we still want to access rows by location we will need to use the integer loc (`iloc`) accessor:"
   ]
  },
  {
   "cell_type": "code",
   "execution_count": null,
   "metadata": {
    "deletable": false,
    "editable": false,
    "nbgrader": {
     "cell_type": "code",
     "checksum": "63ab64adc6d9942b80bb198aa9e38ee7",
     "grade": false,
     "grade_id": "slicing_iloc_code",
     "locked": true,
     "schema_version": 3,
     "solution": false
    },
    "tags": []
   },
   "outputs": [],
   "source": [
    "# Example: \n",
    "# df.loc[2:5,\"Year\"] You can't do this\n",
    "df.iloc[1:4,2:3]"
   ]
  },
  {
   "cell_type": "markdown",
   "metadata": {
    "deletable": false,
    "editable": false,
    "nbgrader": {
     "cell_type": "markdown",
     "checksum": "e281847422bca8c813d89b351f30fb11",
     "grade": false,
     "grade_id": "q4",
     "locked": true,
     "schema_version": 3,
     "solution": false
    }
   },
   "source": [
    "## Activity 2.3\n",
    "Selecting multiple columns is easy.  You just need to supply a list of column names.  Select the `Name` and `Year` **in that order** from the `baby_names` table."
   ]
  },
  {
   "cell_type": "code",
   "execution_count": null,
   "metadata": {
    "deletable": false,
    "nbgrader": {
     "cell_type": "code",
     "checksum": "3d553475c469b68e98ee113d3945ddae",
     "grade": false,
     "grade_id": "q4_answer",
     "locked": false,
     "schema_version": 3,
     "solution": true
    },
    "tags": []
   },
   "outputs": [],
   "source": [
    "# YOUR CODE HERE\n",
    "#raise NotImplementedError()\n",
    "name_and_year = baby_names[['Name', 'Year']]"
   ]
  },
  {
   "cell_type": "code",
   "execution_count": null,
   "metadata": {
    "deletable": false,
    "editable": false,
    "nbgrader": {
     "cell_type": "code",
     "checksum": "4b8cd42f670778d50b7bf249831b352a",
     "grade": false,
     "grade_id": "cell-ff444d19ba6a3f5a",
     "locked": true,
     "schema_version": 3,
     "solution": false
    },
    "tags": []
   },
   "outputs": [],
   "source": [
    "name_and_year.shape"
   ]
  },
  {
   "cell_type": "code",
   "execution_count": null,
   "metadata": {
    "deletable": false,
    "nbgrader": {
     "cell_type": "code",
     "checksum": "0adc431a5cf6993dfcbb102fd97eb048",
     "grade": true,
     "grade_id": "q4_test",
     "locked": true,
     "points": 1,
     "schema_version": 3,
     "solution": false
    },
    "tags": [
     "solution"
    ]
   },
   "outputs": [],
   "source": [
    "# complete the ?? of assert statements below\n",
    "assert name_and_year.shape == (6408041, 2)\n",
    "assert name_and_year.loc[0,\"Name\"] == 'Mary'\n",
    "assert name_and_year.loc[0,\"Year\"] == 1910"
   ]
  },
  {
   "cell_type": "markdown",
   "metadata": {
    "deletable": false,
    "editable": false,
    "nbgrader": {
     "cell_type": "markdown",
     "checksum": "6779a891e75e0ef03369773442df36ca",
     "grade": false,
     "grade_id": "q4_hint",
     "locked": true,
     "schema_version": 3,
     "solution": false
    }
   },
   "source": [
    "As you may have noticed above, the .loc() method is a way to re-order the columns within a dataframe."
   ]
  },
  {
   "cell_type": "markdown",
   "metadata": {
    "deletable": false,
    "editable": false,
    "nbgrader": {
     "cell_type": "markdown",
     "checksum": "1cf4c31a8f0e705de066d6f923946246",
     "grade": false,
     "grade_id": "filter_data",
     "locked": true,
     "schema_version": 3,
     "solution": false
    }
   },
   "source": [
    "## Activity 2.4 - Filtering Data"
   ]
  },
  {
   "cell_type": "markdown",
   "metadata": {
    "deletable": false,
    "editable": false,
    "nbgrader": {
     "cell_type": "markdown",
     "checksum": "fbd36d05d9f82b923a5659964ebfde08",
     "grade": false,
     "grade_id": "filter_data_op",
     "locked": true,
     "schema_version": 3,
     "solution": false
    }
   },
   "source": [
    "### Filtering with boolean arrays\n",
    "\n",
    "Filtering is the process of removing unwanted material.  In your quest for cleaner data, you will undoubtedly filter your data at some point: whether it be for clearing up cases with missing values, culling out fishy outliers, or analyzing subgroups of your data set.  Note that compound expressions have to be grouped with parentheses. Example usage looks like `df[df[column name] < 5]]`.\n",
    "\n",
    "For your reference, some commonly used comparison operators are given below.\n",
    "\n",
    "Symbol | Usage      | Meaning \n",
    "------ | ---------- | -------------------------------------\n",
    "==   | a == b   | Does a equal b?\n",
    "<=   | a <= b   | Is a less than or equal to b?\n",
    ">=   | a >= b   | Is a greater than or equal to b?\n",
    "<    | a < b    | Is a less than b?\n",
    "&#62;    | a &#62; b    | Is a greater than b?\n",
    "~    | ~p       | Returns negation of p\n",
    "&#124; | p &#124; q | p OR q\n",
    "&    | p & q    | p AND q\n",
    "^  | p ^ q | p XOR q (exclusive or)"
   ]
  },
  {
   "cell_type": "markdown",
   "metadata": {
    "deletable": false,
    "editable": false,
    "nbgrader": {
     "cell_type": "markdown",
     "checksum": "97c176155ca811f763bba974a59f6615",
     "grade": false,
     "grade_id": "filter_ca",
     "locked": true,
     "schema_version": 3,
     "solution": false
    }
   },
   "source": [
    "In the following we construct the DataFrame containing only names registered in New Jersey"
   ]
  },
  {
   "cell_type": "code",
   "execution_count": null,
   "metadata": {
    "deletable": false,
    "nbgrader": {
     "cell_type": "code",
     "checksum": "cfd32fe93659078021e0c05611083bfb",
     "grade": false,
     "grade_id": "filter_ca_code",
     "locked": true,
     "schema_version": 3,
     "solution": false
    },
    "tags": []
   },
   "outputs": [],
   "source": [
    "# construct a DataFrame containing only the names registered in New Jersey. \n",
    "# The table below shows the expected answer.\n",
    "nj = baby_names[baby_names['State'] == 'NJ']\n",
    "nj\n"
   ]
  },
  {
   "cell_type": "markdown",
   "metadata": {
    "deletable": false,
    "nbgrader": {
     "cell_type": "markdown",
     "checksum": "6505fd7dce18c6744b434ab6558de6f4",
     "grade": false,
     "grade_id": "q5a",
     "locked": true,
     "schema_version": 3,
     "solution": false
    },
    "tags": []
   },
   "source": [
    "## Activity 2.5\n",
    "Select the names in Year 2000 (for all baby_names) that have larger than 3000 counts. What do you notice?\n",
    "\n",
    "The names listed are male.\n",
    "\n",
    "(If you use `p & q` to filter the dataframe, make sure to use `df[df[(p) & (q)]]` or `df.loc[df[(p) & (q)]])`\n",
    "\n",
    "**Remember** that both slicing and using `loc` will achieve the same result, it is just that `loc` is typically faster in production. You are free to use whichever one you would like."
   ]
  },
  {
   "cell_type": "code",
   "execution_count": null,
   "metadata": {
    "deletable": false,
    "nbgrader": {
     "cell_type": "code",
     "checksum": "45bbbcb2ccea7fa693fa91e804ac92be",
     "grade": false,
     "grade_id": "q5a_answer",
     "locked": false,
     "schema_version": 3,
     "solution": true
    },
    "tags": []
   },
   "outputs": [],
   "source": [
    "# YOUR CODE HERE\n",
    "result = baby_names.loc[(baby_names['Year'] == 2000) & (baby_names['Count'] > 3000)]\n",
    "print(result[\"Count\"].sum())\n",
    "#raise NotImplementedError()"
   ]
  },
  {
   "cell_type": "code",
   "execution_count": null,
   "metadata": {
    "deletable": false,
    "nbgrader": {
     "cell_type": "code",
     "checksum": "206a5191d3b958cf3133dbd18216159b",
     "grade": false,
     "grade_id": "q5a_display",
     "locked": true,
     "schema_version": 3,
     "solution": false
    },
    "tags": []
   },
   "outputs": [],
   "source": [
    "result"
   ]
  },
  {
   "cell_type": "code",
   "execution_count": null,
   "metadata": {
    "deletable": false,
    "nbgrader": {
     "cell_type": "code",
     "checksum": "9170033382ef88e364451f6c5dac8413",
     "grade": true,
     "grade_id": "q5a_test",
     "locked": true,
     "points": 1,
     "schema_version": 3,
     "solution": false
    },
    "tags": []
   },
   "outputs": [],
   "source": [
    "# complete the assert statements below\n",
    "assert len(result) == 11\n",
    "assert result[\"Count\"].sum() == 39001\n",
    "assert result[\"Count\"].iloc[0] == 4342"
   ]
  },
  {
   "cell_type": "markdown",
   "metadata": {
    "deletable": false,
    "editable": false,
    "nbgrader": {
     "cell_type": "markdown",
     "checksum": "5b79a8534c7a0dd24097ceb55ede51a4",
     "grade": false,
     "grade_id": "q6a",
     "locked": true,
     "schema_version": 3,
     "solution": false
    }
   },
   "source": [
    "\n",
    "## Activity 2.6 - Data Aggregration (Grouping Data Frames)\n",
    "\n",
    "To count the number of instances of each unique value in a `Series`, we can use the `value_counts()` [method](https://pandas.pydata.org/pandas-docs/stable/generated/pandas.Series.value_counts.html) as `df[\"col_name\"].value_counts()`. Count the number of different names for each Year in `NJ` (New Jersey).  (You may use the `nj` DataFrame created above.)\n",
    "\n",
    "**Note:** *We are not computing the number of babies but instead the number of names (rows in the table) for each year.*"
   ]
  },
  {
   "cell_type": "code",
   "execution_count": null,
   "metadata": {
    "deletable": false,
    "nbgrader": {
     "cell_type": "code",
     "checksum": "a284a2efc92e852c152da72effcfe0f3",
     "grade": false,
     "grade_id": "q6a_answer",
     "locked": false,
     "schema_version": 3,
     "solution": true
    },
    "tags": []
   },
   "outputs": [],
   "source": [
    "# YOUR CODE HERE\n",
    "#num_of_names_per_year = nj.groupby('Year')['Name'].value_counts().groupby('Year').count()\n",
    "num_of_names_per_year = baby_names.groupby(by=\"State\").get_group(\"NJ\")[\"Year\"].value_counts()\n",
    "num_of_names_per_year[2007]\n",
    "#num_of_names_per_year[:5].sum()\n",
    "#num_of_names_per_year[:15].sum()\n",
    "#raise NotImplementedError()"
   ]
  },
  {
   "cell_type": "code",
   "execution_count": null,
   "metadata": {
    "deletable": false,
    "editable": false,
    "nbgrader": {
     "cell_type": "code",
     "checksum": "386ddc7e67118d05d38f3d27afc608f7",
     "grade": false,
     "grade_id": "q6a_display",
     "locked": true,
     "schema_version": 3,
     "solution": false
    },
    "tags": []
   },
   "outputs": [],
   "source": [
    "num_of_names_per_year[:5]"
   ]
  },
  {
   "cell_type": "code",
   "execution_count": null,
   "metadata": {
    "deletable": false,
    "nbgrader": {
     "cell_type": "code",
     "checksum": "f3ac97762ce6f86526102fcc41d747eb",
     "grade": true,
     "grade_id": "q6a_test",
     "locked": false,
     "points": 1,
     "schema_version": 3,
     "solution": false
    },
    "tags": []
   },
   "outputs": [],
   "source": [
    "# complete the assert statements below\n",
    "assert num_of_names_per_year[2007] == 2567\n",
    "assert num_of_names_per_year[:5].sum() == 12806\n",
    "assert num_of_names_per_year[1910] == 348\n",
    "assert num_of_names_per_year[:15].sum() == 37718"
   ]
  },
  {
   "cell_type": "markdown",
   "metadata": {
    "deletable": false,
    "editable": false,
    "nbgrader": {
     "cell_type": "markdown",
     "checksum": "04be359053e7bbb9cea0f890ae1a6d71",
     "grade": false,
     "grade_id": "q6b",
     "locked": true,
     "schema_version": 3,
     "solution": false
    }
   },
   "source": [
    "## Activity 2.7 - Gender Counts\n",
    "Count the number of different names for each gender in `NJ`. "
   ]
  },
  {
   "cell_type": "code",
   "execution_count": null,
   "metadata": {
    "deletable": false,
    "nbgrader": {
     "cell_type": "code",
     "checksum": "37e9286ee7b79ac49e196fb8c581ecfd",
     "grade": false,
     "grade_id": "q6b_answer",
     "locked": false,
     "schema_version": 3,
     "solution": true
    },
    "tags": []
   },
   "outputs": [],
   "source": [
    "# YOUR CODE HERE\n",
    "num_of_names_per_gender = nj.groupby(\"Sex\")[\"Name\"].nunique()\n",
    "#raise NotImplementedError()"
   ]
  },
  {
   "cell_type": "code",
   "execution_count": null,
   "metadata": {
    "deletable": false,
    "editable": false,
    "nbgrader": {
     "cell_type": "code",
     "checksum": "09097217486af69699c214436bace37d",
     "grade": false,
     "grade_id": "q6b_display",
     "locked": true,
     "schema_version": 3,
     "solution": false
    },
    "tags": []
   },
   "outputs": [],
   "source": [
    "num_of_names_per_gender"
   ]
  },
  {
   "cell_type": "code",
   "execution_count": null,
   "metadata": {
    "deletable": false,
    "nbgrader": {
     "cell_type": "code",
     "checksum": "e229724e11cdd390e19b6dadc1ad1a99",
     "grade": true,
     "grade_id": "q6b_test",
     "locked": true,
     "points": 1,
     "schema_version": 3,
     "solution": false
    },
    "tags": []
   },
   "outputs": [],
   "source": [
    "# complete ?? in these assertions\n",
    "assert num_of_names_per_gender[\"F\"] > 6\n",
    "assert num_of_names_per_gender[\"F\"] == 5121\n",
    "assert num_of_names_per_gender[\"M\"] == 3375"
   ]
  },
  {
   "cell_type": "markdown",
   "metadata": {},
   "source": [
    "### Activity 2.7.1\n",
    "\n",
    "Let's move back to baby names and specifically, the `nj` dataframe. Find the sum of `Count` for each `Name` in the `nj` table. You should use `df.groupby(\"col_name\").sum()`. Your result should be a Pandas Series.\n",
    "\n",
    "**Note:** *In this question we are now computing the number of registered babies with a given name.*"
   ]
  },
  {
   "cell_type": "code",
   "execution_count": null,
   "metadata": {
    "tags": []
   },
   "outputs": [],
   "source": [
    "# YOUR CODE HERE\n",
    "count_for_names = nj.groupby(\"Name\")[\"Count\"].sum()\n",
    "# raise NotImplementedError()\n",
    "\n",
    "count_for_names"
   ]
  },
  {
   "cell_type": "code",
   "execution_count": null,
   "metadata": {
    "tags": []
   },
   "outputs": [],
   "source": [
    "count_for_names.sort_values(ascending=False)[:5]"
   ]
  },
  {
   "cell_type": "code",
   "execution_count": null,
   "metadata": {
    "tags": []
   },
   "outputs": [],
   "source": [
    "# fix the assertion errors\n",
    "assert count_for_names[\"Michael\"] == 170060\n",
    "assert count_for_names[:100].sum() == 35178\n",
    "assert count_for_names[\"David\"] == 99019\n",
    "assert count_for_names[:1000].sum() == 796786"
   ]
  },
  {
   "cell_type": "markdown",
   "metadata": {},
   "source": [
    "### Activity 2.7.2\n",
    "Find the sum of `Count` for each female name after year 1999 (`>1999`) in New Jersey."
   ]
  },
  {
   "cell_type": "code",
   "execution_count": null,
   "metadata": {
    "tags": []
   },
   "outputs": [],
   "source": [
    "# YOUR CODE HERE\n",
    "female_name_count = nj.loc[((nj[\"Year\"] > 1999) & (nj[\"Sex\"] == \"F\"))].groupby(\"Name\")[\"Count\"].sum()\n",
    "# raise NotImplementedError()\n",
    "female_name_count"
   ]
  },
  {
   "cell_type": "code",
   "execution_count": null,
   "metadata": {
    "tags": []
   },
   "outputs": [],
   "source": [
    "female_name_count.sort_values(ascending=False)[:5]"
   ]
  },
  {
   "cell_type": "code",
   "execution_count": null,
   "metadata": {
    "tags": []
   },
   "outputs": [],
   "source": [
    "# fix the assertion errors\n",
    "assert female_name_count[\"Emily\"] == 11414\n",
    "assert female_name_count[:100].sum() == 22361\n",
    "assert female_name_count[\"Isabella\"] == 12139\n",
    "assert female_name_count[:10000].sum() == 881071"
   ]
  },
  {
   "cell_type": "markdown",
   "metadata": {},
   "source": [
    "## Activity 2.7.3 - Estimating Gender Counts using gender_guessor\n",
    "We looked at a gender_guessor program (file given in CANVAS FILES).\n",
    "In the original baby names data frame, we have the correct counts of genders (M,F). Write the code below to use the gender_guessor code to see how many genders are guessed correctly by the gender_guessor program. The correctness of gender_guessor can be assesed by the percentage of genders the preditor accurately predicts. For example, if the predictor correctly estimate 60 out of 100, then the accuracy of the predictor is 60%. If the gender_guessor estimate a name as \"mostly female\", count it as \"female\". Similary, \"mostly male\" would be considered \"male\". Write the code below to estimate the predictor accuracy."
   ]
  },
  {
   "cell_type": "code",
   "execution_count": null,
   "metadata": {
    "tags": []
   },
   "outputs": [],
   "source": [
    "!/koko/system/anaconda/envs/python39/bin/pip install --user gender-guesser"
   ]
  },
  {
   "cell_type": "code",
   "execution_count": null,
   "metadata": {
    "tags": []
   },
   "outputs": [],
   "source": [
    "# YOUR CODE HERE\n",
    "import gender_guesser.detector as gender\n",
    "detector = gender.Detector()\n",
    "\n",
    "unique_names = baby_names.drop_duplicates(subset=\"Name\")\n",
    "\n",
    "correct_male = sum(1 for x, y in zip(unique_names[\"Name\"], unique_names[\"Sex\"]) if y == \"M\" and detector.get_gender(x) in [\"male\", \"mostly_male\"])\n",
    "total_male = sum(1 for y in unique_names[\"Sex\"] if y == \"M\")\n",
    "\n",
    "correct_female = sum(1 for x, y in zip(unique_names[\"Name\"], unique_names[\"Sex\"]) if y == \"F\" and detector.get_gender(x) in [\"female\", \"mostly_female\"])\n",
    "total_female = sum(1 for y in unique_names[\"Sex\"] if y == \"F\")\n",
    "\n",
    "# raise NotImplementedError()\n",
    "female_predictor_accuracy = (correct_female / total_female) * 100\n",
    "male_predictor_accuracy = (correct_male / total_male) * 100\n",
    "\n",
    "print(f\"Female predictor accuracy: {female_predictor_accuracy}%\")\n",
    "print(f\"Male predictor accuracy: {male_predictor_accuracy}%\")\n",
    "### ENDOF SOLUTION"
   ]
  },
  {
   "cell_type": "markdown",
   "metadata": {},
   "source": [
    "## Analysis\n",
    "Based on percentages you see above, why would one be higher or lower than the other? This is only a speculation and all answers are accepted.\n",
    "\n",
    "#### begin answer\n",
    "Male and female predictors may perform differently accurately due to differences in the dataset, name patterns, model biases, name ambiguity, and algorithm preferences, among other things. Together, these factors have an effect on the accuracy percentages.\n",
    "#### end answer"
   ]
  },
  {
   "cell_type": "markdown",
   "metadata": {},
   "source": [
    "## Activity 2.8 - Most Popular Names\n",
    "\n",
    "#### Part 1 What is the most popular female name and male name in any given year for a given state?\n",
    "Complete a function def most_popular(year, state) that takes a year and a state and return this list.\n"
   ]
  },
  {
   "cell_type": "code",
   "execution_count": null,
   "metadata": {
    "tags": []
   },
   "outputs": [],
   "source": [
    "def most_popular(year, state):\n",
    "    # function_body\n",
    "    pop_male = baby_names[(baby_names[\"Sex\"] == \"M\") & (baby_names[\"State\"] == state) & (baby_names[\"Year\"] == year)]\n",
    "    pop_female = baby_names[(baby_names[\"Sex\"] == \"F\") & (baby_names[\"State\"] == state) & (baby_names[\"Year\"] == year)]\n",
    "    pop_male = pop_male.sort_values(by=\"Count\", ascending=False).reset_index(drop=True)\n",
    "    pop_female = pop_female.sort_values(by=\"Count\", ascending=False).reset_index(drop=True)\n",
    "    return pop_male.loc[0, [\"Name\", \"Count\"]], pop_female.loc[0, [\"Name\", \"Count\"]]"
   ]
  },
  {
   "cell_type": "code",
   "execution_count": null,
   "metadata": {
    "tags": []
   },
   "outputs": [],
   "source": [
    "# PART 1 : using the function find the most popular male and female names\n",
    "# in NJ for year 2000\n",
    "\n",
    "year = 2000\n",
    "state = 'NJ'\n",
    "most_popular(year, state)\n"
   ]
  },
  {
   "cell_type": "markdown",
   "metadata": {},
   "source": [
    "#### Part 2 What is the most popular female and male name across all years and all states?"
   ]
  },
  {
   "cell_type": "code",
   "execution_count": null,
   "metadata": {
    "tags": []
   },
   "outputs": [],
   "source": [
    "# YOUR CODE HERE\n",
    "boy_names = baby_names[baby_names['Sex'] == 'M']\n",
    "girl_names = baby_names[baby_names['Sex'] == 'F']\n",
    "\n",
    "popular_boy_name = boy_names.groupby('Name')['Count'].sum().reset_index()\n",
    "popular_boy_name = popular_boy_name.sort_values(by='Count', ascending=False).head(1)\n",
    "popular_girl_name = girl_names.groupby('Name')['Count'].sum().reset_index()\n",
    "popular_girl_name = popular_girl_name.sort_values(by='Count', ascending=False).head(1)\n",
    "\n",
    "# results\n",
    "print(\"Popular boy name:\\n\", popular_boy_name)\n",
    "print(\"Popular girl name:\\n\", popular_girl_name)\n",
    "# raise NotImplementedError()"
   ]
  },
  {
   "attachments": {
    "image.png": {
     "image/png": "[encoded data removed]"
    }
   },
   "cell_type": "markdown",
   "metadata": {},
   "source": [
    "## Activity 2.9 Can you deduce birth sex from the last letter of a person’s name?\n",
    "This is an open ended activity. We would like you to think about how to answer this question. There can be many ways to do this. \n",
    "If you can plot a graph like this, you might be able to answer the question. The x-axis is the probability that a name stars with a letter (y-axis) The plot is done using https://pandas.pydata.org/pandas-docs/stable/reference/api/pandas.DataFrame.plot.barh.html\n",
    "\n",
    "![image.png](attachment:image.png)"
   ]
  },
  {
   "cell_type": "code",
   "execution_count": null,
   "metadata": {
    "tags": []
   },
   "outputs": [],
   "source": [
    "# your code to plot the graph as shown above (you need to consider all states, all years data)\n",
    "baby_names['last_letter'] = baby_names['Name'].str[-1]\n",
    "ll = baby_names.groupby([\"Sex\", \"last_letter\"])[\"Count\"].sum().reset_index()\n",
    "total = baby_names.groupby([\"last_letter\"])[\"Count\"].sum().reset_index() \n",
    "total_con = pd.concat([total, total], ignore_index=True)\n",
    "ll[\"prob\"] = ll[\"Count\"] / total_con[\"Count\"]\n",
    "birth_sex = pd.DataFrame({'F': ll[ll[\"Sex\"] == \"F\"][\"prob\"].sort_values(ascending=False),'M': ll[ll[\"Sex\"] == \"M\"][\"prob\"].reset_index(drop=True).sort_values(ascending=True)})\n",
    "birth_sex.index = ll[ll[\"Sex\"] == \"F\"].sort_values(by=\"prob\", ascending=False)[\"last_letter\"]\n",
    "ax = birth_sex.plot.barh(figsize=(8, 8), width=0.4, color={\"F\": \"b\", \"M\": \"r\"})\n",
    "plt.ylabel(\"Last Letter\")\n",
    "plt.xlabel(\"Probability\")\n",
    "plt.show()"
   ]
  },
  {
   "cell_type": "markdown",
   "metadata": {},
   "source": [
    "## Activity 2.10 - Interpretation\n",
    "How do you interpret the plot above? What does it tell you? Explain briefly."
   ]
  },
  {
   "cell_type": "markdown",
   "metadata": {},
   "source": [
    "The plot demonstrates how particular baby name last letters are strongly linked to a particular gender. For instance, the letters \"a,\" \"e,\" and \"y\" are frequently used in female names while the letters \"n,\" \"f,\" and \"l\" are frequently used in male names. Based on the last letter of a name, this data-driven insight can be used to forecast a person's gender."
   ]
  },
  {
   "cell_type": "markdown",
   "metadata": {},
   "source": [
    "# Task 3 - Cleaning and Working with Artist Data from IMDB\n",
    "IMDB  https://datasets.imdbws.com/ contains large datasets such as name.basics.tsv.gz. This file is roughly 258 MB.\n",
    "In order to work with these data sets, we need to clean these datasets. We have given you a file name artists.data (~50MB) that contains the data we need in a single column. In this task, we will clean this data set, extract the columns we need and do some explorations on the data.\n",
    "\n",
    "A data row in this file is of the form <br>\n",
    "nm0000001,Fred Astaire,1899,1987,soundtrack\n",
    "and there are over 1 million entries in this data set."
   ]
  },
  {
   "cell_type": "markdown",
   "metadata": {},
   "source": [
    "### Activity 3.1 - Cleaning data\n",
    "In this activity we need to read the data file artists.csv into a dataframe that contains 5 columns, named \"ID\", \"Artist\", \"Born\", \"Passed\" \"Job\" <br>\n",
    "Read and print the head() of the dataframe. "
   ]
  },
  {
   "cell_type": "code",
   "execution_count": null,
   "metadata": {
    "tags": []
   },
   "outputs": [],
   "source": [
    "## your code here\n",
    "#%cd /home/js2719/cs439/Lab 02/data\n",
    "df = pd.read_csv(\"artists.csv\", names=[\"ID\", \"Artist\", \"Born\", \"Passed\", \"Job\", \"Title\"], sep=r'[,\\t]', engine='python', skiprows=1)\n",
    "df['ID'] = df['ID'].str.replace(r'\"', '')\n",
    "df['Job'] = df['Job'].str.replace(r'\"', '')\n",
    "df.drop('Title', axis=1, inplace=True) \n",
    "df.head()"
   ]
  },
  {
   "cell_type": "markdown",
   "metadata": {},
   "source": [
    "### Activity 3.2 Explore this data set\n",
    "1. How many artists are in this data set? <br>\n",
    "\n",
    "2. What percentage of records have no \"Job\" function listed? What would you suggest you do with missing records? <br>\n",
    "\n",
    "3. How many actors and actresses are in this data set? <br>\n",
    "\n",
    "4. When is this data situated? That is, find a range of years for \"birth\" and \"Passing Year\". <br>"
   ]
  },
  {
   "cell_type": "code",
   "execution_count": null,
   "metadata": {},
   "outputs": [],
   "source": [
    "# write your code below to answer the questions above\n",
    "min_passing_year = 1000000\n",
    "min_year = 1000000\n",
    "max_passing_year = 0\n",
    "max_year = 0\n",
    "for x in df[\"Passed\"]:\n",
    "    if x == '\\\\N' or x == None:\n",
    "        continue\n",
    "    if int(x) < min_passing_year:\n",
    "        min_passing_year = int(x)\n",
    "    if int(x) > max_passing_year:\n",
    "        max_passing_year = int(x)\n",
    "for x in df[\"Born\"]:\n",
    "    if x == '\\\\N' or x == None:\n",
    "        continue\n",
    "    if int(x) < min_year:\n",
    "        min_year = int(x)\n",
    "    if int(x) > max_year:\n",
    "        max_year = int(x)\n",
    "# How many artists are in this data set?\n",
    "print(\"Artists: \", df[\"ID\"].count())\n",
    "# What percentage of records have no \"Job\" function listed? \n",
    "print(\"Percentage of missing jobs records: \", df['Job'].isna().sum() / df[\"ID\"].count() * 100, \"%\")\n",
    "# How many actors and actresses are in this data set?\n",
    "print(\"Number of Actors:\", (df['Job'] == \"actor\").sum())\n",
    "print(\"Number of Actresses:\", (df[\"Job\"] == \"actress\").sum())\n",
    "# When is this data situated? That is, find a range of years for \"birth\" and \"Passing Year\".\n",
    "print(\"Birth range: \", min_year, \"-\", max_year)\n",
    "print(\"Passing year range: \", min_passing_year, \"-\", max_passing_year)"
   ]
  },
  {
   "cell_type": "markdown",
   "metadata": {},
   "source": [
    "### Activity 3.3 - Groupby jobs\n",
    "If we group by the Job, how many different job titles were held by the artists? What were the 10 most popular jobs? How many in each of these jobs?"
   ]
  },
  {
   "cell_type": "code",
   "execution_count": null,
   "metadata": {},
   "outputs": [],
   "source": [
    "# your code here\n",
    "num_unique_jobs = df[\"Job\"].nunique()\n",
    "print(\"Unique Jobs:\", num_unique_jobs)\n",
    "\n",
    "top_10_jobs = df[\"Job\"].value_counts().head(10)\n",
    "print(\"Top 10 most popular jobs:\")\n",
    "print(top_10_jobs.to_string(header=False))"
   ]
  },
  {
   "cell_type": "markdown",
   "metadata": {},
   "source": [
    "### Activity 3.4 - Most and Least Popular first names\n",
    "What are the 5 most popular first names and 5 least popular first names among artists?"
   ]
  },
  {
   "cell_type": "code",
   "execution_count": null,
   "metadata": {},
   "outputs": [],
   "source": [
    "# your code here\n",
    "# Popular Names\n",
    "popular_first_names = df['Artist'].str.split().str[0].value_counts().head()\n",
    "print(\"Popular names\")\n",
    "print(popular_first_names)\n",
    "\n",
    "# Unpopular Names\n",
    "unpopular_first_names = df['Artist'].str.split().str[0].value_counts().tail()\n",
    "print(\"Unpopular names\")\n",
    "print(unpopular_first_names)\n"
   ]
  },
  {
   "cell_type": "markdown",
   "metadata": {},
   "source": [
    "### Activity 3.5 - Compare with babynames\n",
    "How do 5 most popular first names and 5 least popular first names among artists compare to 5 most popular first names and 5 least popular first names among babies? Use the babynames dataframe from Task 2 "
   ]
  },
  {
   "cell_type": "code",
   "execution_count": null,
   "metadata": {},
   "outputs": [],
   "source": [
    "# write your code here\n",
    "names = baby_names.groupby(['Name'])['Count'].sum().reset_index()\n",
    "print(names.sort_values(by='Count', ascending=False).head())\n",
    "print(names.sort_values(by='Count', ascending=True).head())\n",
    "\n"
   ]
  },
  {
   "cell_type": "markdown",
   "metadata": {},
   "source": [
    "#### Write your analysis\n",
    "Briefly explain your observations below."
   ]
  },
  {
   "cell_type": "markdown",
   "metadata": {},
   "source": [
    "Artists and babies share the three most popular first names: John, Michael, and Robert.It is also assumed that there will be no parallels between artists and newborns since we are also comparing least common first names."
   ]
  },
  {
   "cell_type": "markdown",
   "metadata": {},
   "source": [
    "### Activity 3.6 - Most popular Birth Year of Artists\n",
    "Which year the most artists were born according to this data? Which year the most artists passed according to this data?"
   ]
  },
  {
   "cell_type": "code",
   "execution_count": null,
   "metadata": {
    "tags": []
   },
   "outputs": [],
   "source": [
    "# your code here\n",
    "print(\"1947 was the year most artists were born\")\n",
    "born_counts = df.groupby(\"Born\")[\"Born\"].count().sort_values(ascending=False).head(5)\n",
    "print(born_counts)\n",
    "print(\"2020 was the year that most artists passed\")\n",
    "passed_counts = df.groupby(\"Passed\")[\"Passed\"].count().sort_values(ascending=False).head(5)\n",
    "print(passed_counts)"
   ]
  },
  {
   "cell_type": "markdown",
   "metadata": {},
   "source": [
    "### Activity 3.7 Ethical Considerations\n",
    "Are there any ethical considerations or biases that should be taken into account when analyzing and interpreting the dataset, especially regarding cultural sensitivity and privacy concerns? This is an open ended question. Do some <b>research</b> using youchat and write a <b>brief answer</b>."
   ]
  },
  {
   "cell_type": "markdown",
   "metadata": {},
   "source": [
    "##### Write your answer below"
   ]
  },
  {
   "cell_type": "markdown",
   "metadata": {},
   "source": [
    "Protecting personal information about persons and, when required, making data anonymous are all parts of maintaining privacy. Understanding cultural nuances and refraining from making broad generalizations or insulting stereotypes are requirements for cultural sensitivity. Checking for biases in data collecting and algorithms that can support discrimination or inequality is another aspect of ethical analysis. Important considerations include the informed consent of data subjects, where appropriate, and transparency regarding data sources and limits. In order to prevent harm and assure justice, a responsible and ethical approach to data analysis necessitates a deep awareness of privacy and cultural sensitivity."
   ]
  },
  {
   "cell_type": "markdown",
   "metadata": {},
   "source": [
    "# Submission Instructions\n",
    "\n",
    "### Please Remove all output before submission\n",
    "\n",
    "### Submit To: cb439.cs.rutgers.edu\n",
    "\n",
    "Warning: Failure to follow directions may result in loss of points."
   ]
  },
  {
   "cell_type": "markdown",
   "metadata": {},
   "source": [
    "## Feedback  (please edit this cell)\n",
    "Please provide feedback on this lab. Thank you.\n",
    "1. How would you rate this lab from a scale of 1-10 (10-best? 10\n",
    "2. What components of the lab you enjoyed the most (if any): I enjoyed how the lab was easy to learn from because of the structure\n",
    "3. What parts of the lab, you did not find interesting at all? (if any) None\n",
    "4. What other comments can you provide to improve this lab? Maybe just make the lab a bit shorter"
   ]
  },
  {
   "cell_type": "markdown",
   "metadata": {},
   "source": [
    "### Rules regarding posting solutions on public sites such as github\n",
    "The labs are intended **only for students** who are part of the course. As such **no lab or its solution** should be made available on a public sites such as GITHUB. Please contact the instructor for further details of this rule. Any violation of this rule may result in student being disqualified in participating in the course.\n"
   ]
  },
  {
   "cell_type": "markdown",
   "metadata": {},
   "source": [
    "@2023 A.D. Gunawardena. Thanks to many people who proof read this lab and provided good feedback. Special thanks to Josh Hug from Berkeley Data Science Group for some of the suggested ideas for this lab. \n",
    "IMPORTANT. DO NOT post these labs in public forums such as github or others"
   ]
  }
 ],
 "metadata": {
  "anaconda-cloud": {},
  "kernelspec": {
   "display_name": "Python 3.9",
   "language": "python",
   "name": "python39"
  },
  "language_info": {
   "codemirror_mode": {
    "name": "ipython",
    "version": 3
   },
   "file_extension": ".py",
   "mimetype": "text/x-python",
   "name": "python",
   "nbconvert_exporter": "python",
   "pygments_lexer": "ipython3",
   "version": "3.9.16"
  }
 },
 "nbformat": 4,
 "nbformat_minor": 4
}
